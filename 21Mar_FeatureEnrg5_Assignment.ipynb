{
 "cells": [
  {
   "cell_type": "markdown",
   "id": "6a449526-ba0e-48b1-b509-a64d9f5a308b",
   "metadata": {},
   "source": [
    "#1\n",
    "\n",
    "The main difference between ordinal encoding and label encoding is that ordinal encoding preserves the order of the categories, while label encoding does not. This means that ordinal encoding can be used for categorical data that has an inherent order, such as the rating of a movie (1 star = bad, 5 stars = good). Label encoding, on the other hand, should only be used for categorical data that does not have an inherent order, such as the color of a car (red, blue, green).\n",
    "\n",
    "\n",
    "Here is an example of when you might choose one over the other:\n",
    "\n",
    "You are building a model to predict the rating of a movie. In this case, you would use ordinal encoding to preserve the order of the categories.\n",
    "\n",
    "You are building a model to predict the color of a car. In this case, you would use label encoding because the order of the categories does not matter.\n"
   ]
  },
  {
   "cell_type": "markdown",
   "id": "679daac5-5e26-4e10-b50e-5880391b5351",
   "metadata": {},
   "source": [
    "#2\n",
    "\n",
    "Target Guided Ordinal Encoding is a technique used to encode categorical variables for machine learning models. This encoding technique is particularly useful when the target variable is ordinal, meaning that it has a natural order, such as low, medium, and high. Target Guided Ordinal Encoding involves replacing the categories in the categorical variable with ordinal numbers that are based on the relationship between the category and the target variable. The encoding process involves sorting the categories based on the mean of the target variable for each category and then assigning a numerical value to each category based on its rank.\n",
    "\n",
    "Here’s an example of how Target Guided Ordinal Encoding can be applied: Let’s say we have a dataset that contains information about employees at a company. One of the variables in the dataset is “job level”, which is a categorical variable with four categories: junior, intermediate, senior, and executive. The target variable in this case is the employee’s salary. To encode the “job level” variable using Target Guided Ordinal Encoding, we would first calculate the mean salary for each job level category. Let’s say the mean salaries are as follows: Junior: $40,000 Intermediate: $60,000 Senior: $80,000 Executive: $120,000. Next, we would sort the job levels based on their mean salaries, from lowest to highest. Then, we would assign ordinal numbers to each job level based on their rank: Junior: 1 Intermediate: 2 Senior: 3 Executive: 4. Now, we have encoded the “job level” variable using Target Guided Ordinal Encoding, and we can use these ordinal numbers as input features in a machine learning model to predict employee salaries. This encoding technique takes into account the relationship between the job level categories and the target variable, which can help improve the accuracy of the model."
   ]
  },
  {
   "cell_type": "code",
   "execution_count": 87,
   "id": "0cd96811-ef05-47c0-81e1-6ec172702f76",
   "metadata": {},
   "outputs": [
    {
     "name": "stdout",
     "output_type": "stream",
     "text": [
      "Label Encoding  [2 1 0]\n",
      "Ordinal Encoding for size [[0.]\n",
      " [1.]\n",
      " [2.]]\n",
      "Ordinal Encoding for Material  [[1.]\n",
      " [2.]\n",
      " [0.]]\n"
     ]
    }
   ],
   "source": [
    "#4\n",
    "from sklearn.preprocessing import LabelEncoder,OrdinalEncoder\n",
    "import pandas as pd\n",
    "\n",
    "labencoding=LabelEncoder()\n",
    "orecncoding1=OrdinalEncoder(categories=[['small','large','medium']])\n",
    "orecncoding2=OrdinalEncoder(categories=[['plastic','wood','metal']])\n",
    "\n",
    "df=pd.DataFrame({'color':['red','green','blue'],\n",
    "             'Size':['small','large','medium'],\n",
    "             'Material':['wood', 'metal', 'plastic']})\n",
    "print('Label Encoding ',labencoding.fit_transform(df['color']))\n",
    "print('Ordinal Encoding for size',orecncoding1.fit_transform(df[['Size']]))\n",
    "print('Ordinal Encoding for Material ',orecncoding2.fit_transform(df[['Material']]))"
   ]
  },
  {
   "cell_type": "markdown",
   "id": "efa2ef6e-2669-4566-bb6a-a23c8cbf43c3",
   "metadata": {},
   "source": [
    "#6\n",
    "\n",
    "For \"Gender\" (Male/Female) I will use One Hot Encoding : Gender have two unique category male/female\n",
    "\n",
    "For \"Education Level\" (High School/Bachelor's/Master's/PhD) I will use Label Encoding : Eduacation Level have three category(0,1,2)\n",
    "\n",
    "For \"Employment Status\" (Unemployed/Part-Time/Full-Time) I will use Ordianl Encoding : Employment Status rank need to specify"
   ]
  },
  {
   "cell_type": "code",
   "execution_count": null,
   "id": "b85083fb-771d-4e2d-960b-a4003d04a1c0",
   "metadata": {},
   "outputs": [],
   "source": []
  }
 ],
 "metadata": {
  "kernelspec": {
   "display_name": "Python 3 (ipykernel)",
   "language": "python",
   "name": "python3"
  },
  "language_info": {
   "codemirror_mode": {
    "name": "ipython",
    "version": 3
   },
   "file_extension": ".py",
   "mimetype": "text/x-python",
   "name": "python",
   "nbconvert_exporter": "python",
   "pygments_lexer": "ipython3",
   "version": "3.10.8"
  }
 },
 "nbformat": 4,
 "nbformat_minor": 5
}
